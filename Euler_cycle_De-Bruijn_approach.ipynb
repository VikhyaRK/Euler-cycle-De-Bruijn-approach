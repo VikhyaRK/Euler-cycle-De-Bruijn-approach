{
 "cells": [
  {
   "cell_type": "code",
   "execution_count": 13,
   "id": "53cca9f3",
   "metadata": {},
   "outputs": [
    {
     "name": "stdout",
     "output_type": "stream",
     "text": [
      "Final String: TCGACGCGTA\n"
     ]
    }
   ],
   "source": [
    "def kmers(seq, k):\n",
    "    return [seq[i:i + k] for i in range(len(seq) - k + 1)]\n",
    "\n",
    "\n",
    "def DeBruijnGraph(reads, k):\n",
    "    \n",
    "    nodes = {}\n",
    "    E = []\n",
    "    \n",
    "    for read in reads:       \n",
    "        Kmers_in_our_sequence = kmers(read, k)\n",
    "        \n",
    "        edges = [kmers(mer, k - 1) for mer in Kmers_in_our_sequence]\n",
    "        \n",
    "        for edge in edges:\n",
    "            if edge[0] not in nodes.keys():\n",
    "                nodes[edge[0]] = []\n",
    "            if edge[1] not in nodes.keys():\n",
    "                nodes[edge[1]] = []\n",
    "            nodes[edge[0]].append(edge[1])\n",
    "            E.append(edge)\n",
    "\n",
    "\n",
    "    V = list(nodes.keys())\n",
    "    graph = {'nodes': V, 'edges': E}\n",
    "\n",
    "\n",
    "    return (graph, nodes)\n",
    "\n",
    "input_filename = \"graph_sequences.txt\"\n",
    "with open(input_filename, 'r') as f:\n",
    "    sequences = [line.strip() for line in f]\n",
    "\n",
    "k = len(sequences[0]) \n",
    "\n",
    "\n",
    "graph, nodes = DeBruijnGraph(sequences, k)\n",
    "\n",
    "\n",
    "Diff = {}\n",
    "for v in nodes.keys():\n",
    "    Diff[v] = len(nodes[v])\n",
    "for v in nodes.keys():\n",
    "    for u in nodes[v]:\n",
    "        Diff[u] -= 1\n",
    "\n",
    "\n",
    "startNode = \"\"\n",
    "endNode = \"\"\n",
    "for i in Diff.keys():\n",
    "    if Diff[i] == 1:\n",
    "        if not startNode:\n",
    "            startNode = i\n",
    "        else:\n",
    "            endNode = i\n",
    "    elif Diff[i] == -1:\n",
    "        endNode = i\n",
    "\n",
    "path = []\n",
    "\n",
    "def EulerPath(nodes, startNode):\n",
    "\n",
    "    for i in nodes[startNode]:\n",
    "        nodes[startNode].remove(i)\n",
    "        EulerPath(nodes, i)\n",
    "    path.append(startNode)\n",
    "\n",
    "if startNode and endNode:\n",
    "    EulerPath(nodes, startNode)\n",
    "    path.reverse()\n",
    "\n",
    "    sequence = path[0]\n",
    "    for i in range(1, len(path)):\n",
    "        sequence += path[i][-1]\n",
    "\n",
    "    all_strings_present = all(seq in sequence for seq in sequences)\n",
    "\n",
    "    if all_strings_present:\n",
    "        print(\"Final String:\", sequence)\n",
    "    else:\n",
    "        print(\"No Path\")\n",
    "else:\n",
    "    print(\"No Path\")\n"
   ]
  },
  {
   "cell_type": "code",
   "execution_count": null,
   "id": "e7029657",
   "metadata": {},
   "outputs": [],
   "source": []
  },
  {
   "cell_type": "code",
   "execution_count": null,
   "id": "77a0693a",
   "metadata": {},
   "outputs": [],
   "source": []
  },
  {
   "cell_type": "code",
   "execution_count": null,
   "id": "2d34d2e0",
   "metadata": {},
   "outputs": [],
   "source": []
  }
 ],
 "metadata": {
  "kernelspec": {
   "display_name": "Python 3 (ipykernel)",
   "language": "python",
   "name": "python3"
  },
  "language_info": {
   "codemirror_mode": {
    "name": "ipython",
    "version": 3
   },
   "file_extension": ".py",
   "mimetype": "text/x-python",
   "name": "python",
   "nbconvert_exporter": "python",
   "pygments_lexer": "ipython3",
   "version": "3.10.9"
  }
 },
 "nbformat": 4,
 "nbformat_minor": 5
}
